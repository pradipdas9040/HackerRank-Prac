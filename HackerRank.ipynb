{
 "cells": [
  {
   "cell_type": "code",
   "execution_count": 4,
   "id": "12807702",
   "metadata": {},
   "outputs": [
    {
     "name": "stdout",
     "output_type": "stream",
     "text": [
      "abrackdabra\n",
      "5 P\n",
      "abracPdabra\n"
     ]
    }
   ],
   "source": [
    "def mutate_string(string, position, character):\n",
    "    l = list(string)\n",
    "    l[position] = character\n",
    "    Str = ''.join(l)\n",
    "    return Str\n",
    "\n",
    "if __name__ == '__main__':\n",
    "    s = input()\n",
    "    i, c = input().split()\n",
    "    s_new = mutate_string(s, int(i), c)\n",
    "    print(s_new)"
   ]
  },
  {
   "cell_type": "code",
   "execution_count": 6,
   "id": "a1a78213",
   "metadata": {},
   "outputs": [
    {
     "name": "stdout",
     "output_type": "stream",
     "text": [
      "ABCDCDC\n",
      "CDC\n",
      "2\n"
     ]
    }
   ],
   "source": [
    "#count sub-string\n",
    "def count_substring(string, sub_string):\n",
    "    Sum = sum(1 for i in range(len(string))if string.startswith(sub_string,i))\n",
    "    return Sum\n",
    "\n",
    "if __name__ == '__main__':\n",
    "    string = input().strip()\n",
    "    sub_string = input().strip()\n",
    "    \n",
    "    count = count_substring(string, sub_string)\n",
    "    print(count)"
   ]
  },
  {
   "cell_type": "code",
   "execution_count": 9,
   "id": "e715f235",
   "metadata": {},
   "outputs": [
    {
     "name": "stdout",
     "output_type": "stream",
     "text": [
      "ABCDCDC\n",
      "CDC\n",
      "2\n"
     ]
    }
   ],
   "source": [
    "#count sub-string\n",
    "def count_substring(string, sub_string):\n",
    "    Sum = 0\n",
    "    for i in range(len(string)):\n",
    "        if string.startswith(sub_string, i):\n",
    "            Sum += 1 \n",
    "    return Sum\n",
    "\n",
    "if __name__ == '__main__':\n",
    "    string = input().strip()\n",
    "    sub_string = input().strip()\n",
    "    \n",
    "    count = count_substring(string, sub_string)\n",
    "    print(count)"
   ]
  },
  {
   "cell_type": "markdown",
   "id": "33c00916",
   "metadata": {},
   "source": [
    "***You are given a string S.Your task is to find out if the string S contains:\n",
    "alphanumeric characters, alphabetical characters, digits, lowercase and uppercase characters***\n"
   ]
  },
  {
   "cell_type": "code",
   "execution_count": 12,
   "id": "b77768f5",
   "metadata": {},
   "outputs": [
    {
     "name": "stdout",
     "output_type": "stream",
     "text": [
      "qA2\n",
      "True\n",
      "True\n",
      "True\n",
      "True\n",
      "True\n"
     ]
    }
   ],
   "source": [
    "if __name__ == '__main__':\n",
    "    s = input()\n",
    "    l = list(s)\n",
    "    flag = 0\n",
    "    for i in l:  \n",
    "        if i.isalnum():\n",
    "            flag = 1\n",
    "            break\n",
    "    if flag==1:\n",
    "        print(\"True\")\n",
    "    else:print(\"False\")\n",
    "    flag = 0\n",
    "    for i in l:  \n",
    "        if i.isalpha():\n",
    "            flag = 1\n",
    "            break\n",
    "    if flag==1:\n",
    "        print(\"True\")\n",
    "    else:print(\"False\")\n",
    "    flag = 0\n",
    "    for i in l:  \n",
    "        if i.isdigit():\n",
    "            flag = 1\n",
    "            break\n",
    "    if flag==1:\n",
    "        print(\"True\")\n",
    "    else:print(\"False\")\n",
    "    flag = 0\n",
    "    for i in l:  \n",
    "        if i.islower():\n",
    "            flag = 1\n",
    "            break\n",
    "    if flag==1:\n",
    "        print(\"True\")\n",
    "    else:print(\"False\")\n",
    "    flag = 0\n",
    "    for i in l:  \n",
    "        if i.isupper():\n",
    "            flag = 1\n",
    "            break\n",
    "    if flag==1:\n",
    "        print(\"True\")\n",
    "    else:print(\"False\")"
   ]
  },
  {
   "cell_type": "markdown",
   "id": "9ed0d624",
   "metadata": {},
   "source": [
    "**Task**\n",
    "\n",
    "You are given a partial code that is used for generating the HackerRank Logo of variable thickness.\n",
    "Your task is to replace the blank (______) with rjust, ljust or center.\n",
    "\n",
    "**Input Format**\n",
    "\n",
    "A single line containing the thickness value for the logo."
   ]
  },
  {
   "cell_type": "code",
   "execution_count": 36,
   "id": "ca434842",
   "metadata": {},
   "outputs": [
    {
     "name": "stdout",
     "output_type": "stream",
     "text": [
      "4\n",
      "   H   \n",
      "  HHH  \n",
      " HHHHH \n",
      "HHHHHHH\n",
      "  HHHH            HHHH          \n",
      "  HHHH            HHHH          \n",
      "  HHHH            HHHH          \n",
      "  HHHH            HHHH          \n",
      "  HHHH            HHHH          \n",
      "  HHHHHHHHHHHHHHHHHHHH  \n",
      "  HHHHHHHHHHHHHHHHHHHH  \n",
      "  HHHH            HHHH          \n",
      "  HHHH            HHHH          \n",
      "  HHHH            HHHH          \n",
      "  HHHH            HHHH          \n",
      "  HHHH            HHHH          \n",
      "                HHHHHHH \n",
      "                 HHHHH  \n",
      "                  HHH   \n",
      "                   H    \n"
     ]
    }
   ],
   "source": [
    "#Replace all ______ with rjust, ljust or center. \n",
    "\n",
    "thickness = int(input()) #This must be an odd number\n",
    "c = 'H'\n",
    "\n",
    "#Top Cone\n",
    "for i in range(thickness):\n",
    "    print((c*i).rjust(thickness-1)+c+(c*i).ljust(thickness-1))\n",
    "\n",
    "#Top Pillars\n",
    "for i in range(thickness+1):\n",
    "    print((c*thickness).center(thickness*2)+(c*thickness).center(thickness*6))\n",
    "\n",
    "#Middle Belt\n",
    "for i in range((thickness+1)//2):\n",
    "    print((c*thickness*5).center(thickness*6))    \n",
    "\n",
    "#Bottom Pillars\n",
    "for i in range(thickness+1):\n",
    "    print((c*thickness).center(thickness*2)+(c*thickness).center(thickness*6))    \n",
    "\n",
    "#Bottom Cone\n",
    "for i in range(thickness):\n",
    "    print(((c*(thickness-i-1)).rjust(thickness)+c+(c*(thickness-i-1)).ljust(thickness)).rjust(thickness*6))"
   ]
  },
  {
   "cell_type": "markdown",
   "id": "5c749149",
   "metadata": {},
   "source": [
    "You are given a string S and width w.\n",
    "Your task is to wrap the string into a paragraph of width w.\n",
    "\n",
    "**Function Description**\n",
    "\n",
    "Complete the wrap function in the editor below.\n",
    "\n",
    "wrap has the following parameters:\n",
    "\n",
    "string string: a long string\n",
    "int max_width: the width to wrap to\n",
    "\n",
    "**Returns**\n",
    "\n",
    "string: a single string with newline characters ('\\n') where the breaks should be"
   ]
  },
  {
   "cell_type": "code",
   "execution_count": 38,
   "id": "75abc964",
   "metadata": {},
   "outputs": [
    {
     "name": "stdout",
     "output_type": "stream",
     "text": [
      "ABCDEFGHIJKLIMNOQRSTUVWXYZ\n",
      "4\n",
      "ABCD\n",
      "EFGH\n",
      "IJKL\n",
      "IMNO\n",
      "QRST\n",
      "UVWX\n",
      "YZ\n"
     ]
    }
   ],
   "source": [
    "import textwrap\n",
    "\n",
    "def wrap(string, max_width):\n",
    "    x = textwrap.wrap(string, width=max_width)\n",
    "    for i in range(len(x)-1):\n",
    "        print(x[i])\n",
    "    return x[-1]\n",
    "\n",
    "if __name__ == '__main__':\n",
    "    string, max_width = input(), int(input())\n",
    "    result = wrap(string, max_width)\n",
    "    print(result)"
   ]
  },
  {
   "attachments": {
    "Screenshot%202022-07-04%20142516.png": {
     "image/png": "[encoded data removed]"
    }
   },
   "cell_type": "markdown",
   "id": "a10428a4",
   "metadata": {},
   "source": [
    "Mr. Vincent works in a door mat manufacturing company. One day, he designed a new door mat with the following specifications:\n",
    "\n",
    "Mat size must be N X M. ( is an odd natural number, and M is 3 times N.)\n",
    "The design should have 'WELCOME' written in the center.\n",
    "The design pattern should only use |, . and - characters.\n",
    "![Screenshot%202022-07-04%20142516.png](attachment:Screenshot%202022-07-04%20142516.png)"
   ]
  },
  {
   "cell_type": "code",
   "execution_count": 52,
   "id": "6944ac50",
   "metadata": {},
   "outputs": [
    {
     "name": "stdout",
     "output_type": "stream",
     "text": [
      "9 27\n",
      "------------.|.------------\n",
      "---------.|..|..|.---------\n",
      "------.|..|..|..|..|.------\n",
      "---.|..|..|..|..|..|..|.---\n",
      "----------WELCOME----------\n",
      "---.|..|..|..|..|..|..|.---\n",
      "------.|..|..|..|..|.------\n",
      "---------.|..|..|.---------\n",
      "------------.|.------------\n"
     ]
    }
   ],
   "source": [
    "c = '.|.'\n",
    "n, m = map(int, input().split())\n",
    "for i in range((n//2)):\n",
    "    print((c*(2*i+1)).center(m,'-'))\n",
    "print('WELCOME'.center(m, '-'))\n",
    "for i in reversed(range((n//2))):\n",
    "    print((c*(2*i+1)).center(m,'-'))"
   ]
  },
  {
   "cell_type": "markdown",
   "id": "6a7d873a",
   "metadata": {},
   "source": [
    "***Given an integer, n, print the following values for each integer i from 1 to n:\n",
    "Decimal,\n",
    "Octal,\n",
    "Hexadecimal (capitalized),\n",
    "Binary***"
   ]
  },
  {
   "cell_type": "code",
   "execution_count": 60,
   "id": "d4d76428",
   "metadata": {},
   "outputs": [
    {
     "name": "stdout",
     "output_type": "stream",
     "text": [
      "17\n",
      "1\t1\t1\t1\t\n",
      "2\t2\t2\t10\t\n",
      "3\t3\t3\t11\t\n",
      "4\t4\t4\t100\t\n",
      "5\t5\t5\t101\t\n",
      "6\t6\t6\t110\t\n",
      "7\t7\t7\t111\t\n",
      "8\t10\t8\t1000\t\n",
      "9\t11\t9\t1001\t\n",
      "10\t12\tA\t1010\t\n",
      "11\t13\tB\t1011\t\n",
      "12\t14\tC\t1100\t\n",
      "13\t15\tD\t1101\t\n",
      "14\t16\tE\t1110\t\n",
      "15\t17\tF\t1111\t\n",
      "16\t20\t10\t10000\t\n",
      "17\t21\t11\t10001\t\n"
     ]
    }
   ],
   "source": [
    "def Oct(number):\n",
    "    octal = 0\n",
    "    ctr = 0\n",
    "    temp = number  \n",
    "    while(temp > 0):\n",
    "        octal += ((temp%8)*(10**ctr)) \n",
    "        temp = int(temp/8)             \n",
    "        ctr += 1\n",
    "    return octal\n",
    "\n",
    "def Hax(number):\n",
    "    conversion_table = ['0', '1', '2', '3', '4', '5', '6', '7', '8', '9', 'A' , 'B', 'C', 'D', 'E', 'F']\n",
    "    decimal = number\n",
    "    hexa = ''\n",
    "    while(decimal>0):\n",
    "        remainder = decimal%16\n",
    "        hexa = conversion_table[remainder]+ hexa\n",
    "        decimal = decimal//16\n",
    "    return hexa\n",
    "\n",
    "def Bin(number):\n",
    "    bi = 0\n",
    "    ctr = 0\n",
    "    temp = number  \n",
    "    while(temp > 0):\n",
    "        bi += ((temp%2)*(10**ctr)) \n",
    "        temp = int(temp/2)             \n",
    "        ctr += 1\n",
    "    return bi\n",
    "\n",
    "def print_formatted(number):\n",
    "    for i in range(number):\n",
    "        print(i+1, end='\\t')\n",
    "        print(Oct(i+1), end='\\t')\n",
    "        print(Hax(i+1), end='\\t')\n",
    "        print(Bin(i+1), end='\\t')\n",
    "        print()\n",
    "        \n",
    "if __name__ == '__main__':\n",
    "    n = int(input())\n",
    "    print_formatted(n)"
   ]
  },
  {
   "cell_type": "code",
   "execution_count": 61,
   "id": "85ebf4fc",
   "metadata": {},
   "outputs": [
    {
     "name": "stdout",
     "output_type": "stream",
     "text": [
      "17\n",
      "    1     1     1     1 \n",
      "    2     2     2    10 \n",
      "    3     3     3    11 \n",
      "    4     4     4   100 \n",
      "    5     5     5   101 \n",
      "    6     6     6   110 \n",
      "    7     7     7   111 \n",
      "    8    10     8  1000 \n",
      "    9    11     9  1001 \n",
      "   10    12     A  1010 \n",
      "   11    13     B  1011 \n",
      "   12    14     C  1100 \n",
      "   13    15     D  1101 \n",
      "   14    16     E  1110 \n",
      "   15    17     F  1111 \n",
      "   16    20    10 10000 \n",
      "   17    21    11 10001 \n"
     ]
    }
   ],
   "source": [
    "def Oct(number):\n",
    "    octal = 0\n",
    "    ctr = 0\n",
    "    temp = number  \n",
    "    while(temp > 0):\n",
    "        octal += ((temp%8)*(10**ctr)) \n",
    "        temp = int(temp/8)             \n",
    "        ctr += 1\n",
    "    return octal\n",
    "\n",
    "def Hax(number):\n",
    "    conversion_table = ['0', '1', '2', '3', '4', '5', '6', '7', '8', '9', 'A' , 'B', 'C', 'D', 'E', 'F']\n",
    "    decimal = number\n",
    "    hexa = ''\n",
    "    while(decimal>0):\n",
    "        remainder = decimal%16\n",
    "        hexa = conversion_table[remainder]+ hexa\n",
    "        decimal = decimal//16\n",
    "    return hexa\n",
    "\n",
    "def Bin(number):\n",
    "    bi = 0\n",
    "    ctr = 0\n",
    "    temp = number  \n",
    "    while(temp > 0):\n",
    "        bi += ((temp%2)*(10**ctr)) \n",
    "        temp = int(temp/2)             \n",
    "        ctr += 1\n",
    "    return bi\n",
    "\n",
    "def print_formatted(number):\n",
    "    l1 = len(bin(number)[2:])\n",
    "    for i in range(number):\n",
    "        print((str(i+1)).rjust(l1,' '), end=' ')\n",
    "        print((str(Oct(i+1))).rjust(l1,' '), end=' ')\n",
    "        print((str(Hax(i+1)).rjust(l1,' ')), end=' ')\n",
    "        print((str(Bin(i+1))).rjust(l1,' '), end=' ')\n",
    "        print()\n",
    "        \n",
    "if __name__ == '__main__':\n",
    "    n = int(input())\n",
    "    print_formatted(n)"
   ]
  },
  {
   "attachments": {
    "Screenshot%202022-07-04%20152626.png": {
     "image/png": "[encoded data removed]"
    }
   },
   "cell_type": "markdown",
   "id": "526f0efe",
   "metadata": {},
   "source": [
    "***You are given an integer, . Your task is to print an alphabet rangoli of size . (Rangoli is a form of Indian folk art based on creation of patterns.)\n",
    "Different sizes of alphabet rangoli are shown below:***\n",
    "![Screenshot%202022-07-04%20152626.png](attachment:Screenshot%202022-07-04%20152626.png)"
   ]
  },
  {
   "cell_type": "code",
   "execution_count": 67,
   "id": "e99f8d47",
   "metadata": {},
   "outputs": [
    {
     "name": "stdout",
     "output_type": "stream",
     "text": [
      "5\n",
      "--------e--------\n",
      "------e-d-e------\n",
      "----e-d-c-d-e----\n",
      "--e-d-c-b-c-d-e--\n",
      "e-d-c-b-a-b-c-d-e\n",
      "--e-d-c-b-c-d-e--\n",
      "----e-d-c-d-e----\n",
      "------e-d-e------\n",
      "--------e--------\n"
     ]
    }
   ],
   "source": [
    "def print_rangoli(size):\n",
    "    width  = size*4-3\n",
    "    string = ''\n",
    "    for i in range(1,size+1):\n",
    "        for j in range(0,i):\n",
    "            string += chr(96+size-j)\n",
    "            if len(string) < width :\n",
    "                string += '-'\n",
    "        for k in range(i-1,0,-1):    \n",
    "            string += chr(97+size-k)\n",
    "            if len(string) < width :\n",
    "                string += '-'\n",
    "        print(string.center(width,'-'))\n",
    "        string = ''\n",
    "    for i in range(size-1,0,-1):\n",
    "        string = ''\n",
    "        for j in range(0,i):\n",
    "            string += chr(96+size-j)\n",
    "            if len(string) < width :\n",
    "                string += '-'\n",
    "        for k in range(i-1,0,-1):\n",
    "            string += chr(97+size-k)\n",
    "            if len(string) < width :\n",
    "                string += '-'\n",
    "        print(string.center(width,'-'))\n",
    "\n",
    "if __name__ == '__main__':\n",
    "    n = int(input())\n",
    "    print_rangoli(n)"
   ]
  },
  {
   "cell_type": "markdown",
   "id": "6757f5f4",
   "metadata": {},
   "source": [
    "***ou are asked to ensure that the first and last names of people begin with a capital letter in their passports. For example, alison heck should be capitalised correctly as Alison Heck.***"
   ]
  },
  {
   "cell_type": "code",
   "execution_count": 71,
   "id": "279e9765",
   "metadata": {},
   "outputs": [
    {
     "name": "stdout",
     "output_type": "stream",
     "text": [
      "q w e r t y u i o p a s d f g h j  k l z x c v b n m Q W E R T Y U I O P A S D F G H J  K L Z X C V B N M\n",
      "Q W E R T Y U I O P A S D F G H J K L Z X C V B N M Q W E R T Y U I O P A S D F G H J K L Z X C V B N M\n"
     ]
    }
   ],
   "source": [
    "# This is wrong becouse spaces are not maintain\n",
    "def solve(s):\n",
    "    a = list(s.split())\n",
    "    l = ''\n",
    "    for i in range(len(a)):\n",
    "        a[i] = a[i].capitalize()\n",
    "        if i==0:\n",
    "            l = a[i]\n",
    "        else:l = l+' '+a[i]\n",
    "    return l\n",
    "\n",
    "if __name__ == '__main__':\n",
    "    s = input()\n",
    "    result = solve(s)\n",
    "    print(result)"
   ]
  },
  {
   "cell_type": "code",
   "execution_count": 72,
   "id": "141283c1",
   "metadata": {},
   "outputs": [
    {
     "name": "stdout",
     "output_type": "stream",
     "text": [
      "132 456 Wq  m e\n",
      "132 456 Wq  M E\n"
     ]
    }
   ],
   "source": [
    "def solve(s):\n",
    "    for i in s.split():\n",
    "        s = s.replace(i,i.capitalize())\n",
    "    return s\n",
    "\n",
    "if __name__ == '__main__':\n",
    "    s = input()\n",
    "    result = solve(s)\n",
    "    print(result)"
   ]
  },
  {
   "cell_type": "code",
   "execution_count": null,
   "id": "38d9200a",
   "metadata": {},
   "outputs": [],
   "source": []
  }
 ],
 "metadata": {
  "kernelspec": {
   "display_name": "Python 3 (ipykernel)",
   "language": "python",
   "name": "python3"
  },
  "language_info": {
   "codemirror_mode": {
    "name": "ipython",
    "version": 3
   },
   "file_extension": ".py",
   "mimetype": "text/x-python",
   "name": "python",
   "nbconvert_exporter": "python",
   "pygments_lexer": "ipython3",
   "version": "3.10.2"
  }
 },
 "nbformat": 4,
 "nbformat_minor": 5
}
